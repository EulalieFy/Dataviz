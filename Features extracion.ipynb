{
 "cells": [
  {
   "cell_type": "markdown",
   "metadata": {},
   "source": [
    "## Libraries"
   ]
  },
  {
   "cell_type": "code",
   "execution_count": 3,
   "metadata": {},
   "outputs": [],
   "source": [
    "%matplotlib inline\n",
    "import os\n",
    "import matplotlib.pyplot as plt\n",
    "from scipy.fftpack import fft\n",
    "from scipy import signal\n",
    "from scipy import stats\n",
    "import numpy as np\n",
    "from pylab import specgram\n",
    "from scipy.io import wavfile\n",
    "from scipy.signal import hilbert, chirp\n",
    "import pandas as pd\n",
    "\n",
    "from skimage import util\n",
    "\n",
    "import librosa\n",
    "from librosa import feature\n",
    "import re\n",
    "import plotly.offline as offline\n",
    "import plotly.graph_objs as go\n",
    "from PIL import Image\n",
    "import time\n",
    "import math"
   ]
  },
  {
   "cell_type": "markdown",
   "metadata": {},
   "source": [
    "## Data loading"
   ]
  },
  {
   "cell_type": "code",
   "execution_count": 4,
   "metadata": {},
   "outputs": [],
   "source": [
    "path = \"\" #path to data downloaded on mini vast challenge website\n",
    "os.chdir(path)\n",
    "birds=pd.read_csv('AllBirdsv4.csv')\n",
    "test_birds=pd.read_csv('Test Birds Location.csv')"
   ]
  },
  {
   "cell_type": "markdown",
   "metadata": {},
   "source": [
    "## Extract sound features for the train set"
   ]
  },
  {
   "cell_type": "code",
   "execution_count": null,
   "metadata": {
    "scrolled": true
   },
   "outputs": [
    {
     "name": "stderr",
     "output_type": "stream",
     "text": [
      "C:\\Users\\ambro\\Anaconda3\\lib\\site-packages\\librosa\\core\\pitch.py:145: UserWarning:\n",
      "\n",
      "Trying to estimate tuning from empty frequency set.\n",
      "\n",
      "C:\\Users\\ambro\\Anaconda3\\lib\\site-packages\\librosa\\core\\pitch.py:145: UserWarning:\n",
      "\n",
      "Trying to estimate tuning from empty frequency set.\n",
      "\n"
     ]
    }
   ],
   "source": [
    "English_name = []\n",
    "file_id = []\n",
    "\n",
    "skewness = []\n",
    "kurto = []\n",
    "rmse = []\n",
    "mfcc = []\n",
    "\n",
    "chroma_stft = []\n",
    "contrast = []\n",
    "tonnetz = []\n",
    "melspec = []\n",
    "\n",
    "for filename in os.listdir(r\"birdswav\"): \n",
    "    match = re.search(r'(\\w+-){1,}(?=[0-9])', filename)\n",
    "    English_name.append(match.group()[:-1])\n",
    "    file_id.append(int(filename[match.span()[1]:-4]))\n",
    "    \n",
    "    y, sr = librosa.load(r'birdswav/%s'%filename, sr = None)\n",
    "    y = y[:sr]\n",
    "    \n",
    "    M = math.ceil(sr * 1024 / 48000) #20 ms environ (cf methodo du papier)\n",
    "    \n",
    "    if np.ndim(y)>1:\n",
    "        y = np.mean(y, axis=1)\n",
    "    \n",
    "    while y.shape[0] < sr:\n",
    "        y = np.append(y,y)\n",
    "    \n",
    "    if y.shape[0]>=sr:\n",
    "        y.resize((sr,))\n",
    "    \n",
    "    kurto.append(stats.kurtosis(y, axis = 0))\n",
    "    skewness.append(stats.skew(y, axis = 0))\n",
    "    \n",
    "    rmse.append(feature.rmse(y=y, frame_length = M))\n",
    "    \n",
    "    mfcc.append(feature.mfcc(y=y, sr=sr,n_mfcc = 30))\n",
    "\n",
    "    chroma_stft.append(feature.chroma_stft(y=y, sr=sr))\n",
    "\n",
    "    contrast.append(feature.spectral_contrast(y=y, sr=sr, n_fft = M))\n",
    "\n",
    "    tonnetz.append(feature.tonnetz(y=y, sr=sr))\n",
    "    \n",
    "    melspec.append(feature.melspectrogram(y=y, sr=sr, n_fft = M))"
   ]
  },
  {
   "cell_type": "code",
   "execution_count": null,
   "metadata": {},
   "outputs": [],
   "source": [
    "data = [('name', English_name),\n",
    "         ('id', file_id),\n",
    "         ('kurto', kurto),\n",
    "         ('skewness', skewness),\n",
    "         ('mfcc', mfcc),\n",
    "         ('rmse', rmse),\n",
    "         ('chroma_stft', chroma_stft),\n",
    "         ('contrast', contrast),\n",
    "         ('tonnetz', tonnetz),\n",
    "         ('melspec', melspec),\n",
    "         ]"
   ]
  },
  {
   "cell_type": "code",
   "execution_count": null,
   "metadata": {},
   "outputs": [],
   "source": [
    "df = pd.DataFrame.from_items(data)"
   ]
  },
  {
   "cell_type": "code",
   "execution_count": null,
   "metadata": {},
   "outputs": [],
   "source": [
    "for k in df.columns:\n",
    "    if np.ndim(df.loc[0,k]) == 0:\n",
    "        continue\n",
    "    \n",
    "    long_k = []\n",
    "    for i in range(2081):\n",
    "        long_k.append(df.loc[i,str(k)].shape[1])\n",
    "    \n",
    "    for j in range(df.loc[0,k].shape[0]):\n",
    "        for l in range(np.min(long_k)):\n",
    "            df[str(k) + str(j) + \"_\" + str(l)] = list(df.loc[i,k][j,l] for i in range(df.shape[0]))\n",
    "    df = df.drop(columns = k)\n",
    "\n",
    "# drop features that are objects\n",
    "\n",
    "stft_ = []\n",
    "for i in df.columns : \n",
    "    if 'stft' in i :\n",
    "        stft_.append(i)\n",
    "\n",
    "df = df.drop( stft_ , axis =1 )\n",
    "df = df.drop( ['melspec'], axis =1 )"
   ]
  },
  {
   "cell_type": "code",
   "execution_count": 60,
   "metadata": {},
   "outputs": [],
   "source": [
    "df.to_csv('features_v2.csv')"
   ]
  },
  {
   "cell_type": "markdown",
   "metadata": {},
   "source": [
    "## Feature extraction (Kasios)"
   ]
  },
  {
   "cell_type": "code",
   "execution_count": 3,
   "metadata": {},
   "outputs": [
    {
     "name": "stderr",
     "output_type": "stream",
     "text": [
      "C:\\Users\\ambro\\Anaconda3\\lib\\site-packages\\librosa\\core\\pitch.py:145: UserWarning:\n",
      "\n",
      "Trying to estimate tuning from empty frequency set.\n",
      "\n"
     ]
    }
   ],
   "source": [
    "number = []\n",
    "\n",
    "skewness = []\n",
    "kurto = []\n",
    "rmse = []\n",
    "mfcc = []\n",
    "\n",
    "chroma_stft = []\n",
    "contrast = []\n",
    "tonnetz = []\n",
    "melspec = []\n",
    "\n",
    "for filename in os.listdir(r\"kasios\"):\n",
    "    match = re.search(r'([0-9]+)', filename)\n",
    "    number.append(match.group())\n",
    "    \n",
    "    y, sr = librosa.load(r'kasios/%s'%filename, sr = None)\n",
    "    y = y[:sr]\n",
    "    \n",
    "    M = math.ceil(sr * 1024 / 48000) #20 ms environ (cf methodo du papier)\n",
    "    \n",
    "    if np.ndim(y)>1:\n",
    "        y = np.mean(y, axis=1)\n",
    "    \n",
    "    while y.shape[0] < sr:\n",
    "        y = np.append(y,y)\n",
    "    \n",
    "    if y.shape[0]>=sr:\n",
    "        y.resize((sr,))\n",
    "    \n",
    "    kurto.append(stats.kurtosis(y, axis = 0))\n",
    "    skewness.append(stats.skew(y, axis = 0))\n",
    "    \n",
    "    rmse.append(feature.rmse(y=y, frame_length = M))\n",
    "    \n",
    "    mfcc.append(feature.mfcc(y=y, sr=sr,n_mfcc = 30))\n",
    "\n",
    "    chroma_stft.append(feature.chroma_stft(y=y, sr=sr))\n",
    "\n",
    "    contrast.append(feature.spectral_contrast(y=y, sr=sr, n_fft = M))\n",
    "\n",
    "    tonnetz.append(feature.tonnetz(y=y, sr=sr))\n",
    "    \n",
    "    melspec.append(feature.melspectrogram(y=y, sr=sr, n_fft = M))"
   ]
  },
  {
   "cell_type": "code",
   "execution_count": 5,
   "metadata": {
    "scrolled": true
   },
   "outputs": [
    {
     "name": "stderr",
     "output_type": "stream",
     "text": [
      "C:\\Users\\ambro\\Anaconda3\\lib\\site-packages\\ipykernel_launcher.py:12: FutureWarning:\n",
      "\n",
      "from_items is deprecated. Please use DataFrame.from_dict(dict(items), ...) instead. DataFrame.from_dict(OrderedDict(items)) may be used to preserve the key order.\n",
      "\n"
     ]
    }
   ],
   "source": [
    "data2 = [('numero', number),\n",
    "         ('kurto', kurto),\n",
    "         ('skewness', skewness),\n",
    "         ('mfcc', mfcc),\n",
    "         ('rmse', rmse),\n",
    "         ('chroma_stft', chroma_stft),\n",
    "         ('contrast', contrast),\n",
    "         ('tonnetz', tonnetz),\n",
    "         ('melspec', melspec),\n",
    "         ]\n",
    "\n",
    "df_kasios = pd.DataFrame.from_items(data2)\n"
   ]
  },
  {
   "cell_type": "code",
   "execution_count": 50,
   "metadata": {},
   "outputs": [],
   "source": [
    "df_kasios.to_csv(\"features_v2_kasios.csv\")"
   ]
  },
  {
   "cell_type": "code",
   "execution_count": 9,
   "metadata": {},
   "outputs": [],
   "source": [
    "for k in df_kasios.columns:\n",
    "    if np.ndim(df_kasios.loc[0,k]) == 0:\n",
    "        continue\n",
    "    \n",
    "    long_k = []\n",
    "    for i in range(15):\n",
    "        long_k.append(df_kasios.loc[i,str(k)].shape[1])\n",
    "    \n",
    "    for j in range(df_kasios.loc[0,k].shape[0]):\n",
    "        for l in range(np.min(long_k)):\n",
    "            df_kasios[str(k) + str(j) + \"_\" + str(l)] = list(df_kasios.loc[i,k][j,l] for i in range(df_kasios.shape[0]))\n",
    "    df_kasios_fin = df_kasios.drop(columns = k)"
   ]
  },
  {
   "cell_type": "code",
   "execution_count": 13,
   "metadata": {},
   "outputs": [],
   "source": [
    "df_kasios_fin.to_csv(\"features_v2_kasios.csv\")"
   ]
  }
 ],
 "metadata": {
  "kernelspec": {
   "display_name": "Python 3",
   "language": "python",
   "name": "python3"
  },
  "language_info": {
   "codemirror_mode": {
    "name": "ipython",
    "version": 3
   },
   "file_extension": ".py",
   "mimetype": "text/x-python",
   "name": "python",
   "nbconvert_exporter": "python",
   "pygments_lexer": "ipython3",
   "version": "3.6.2"
  }
 },
 "nbformat": 4,
 "nbformat_minor": 2
}
